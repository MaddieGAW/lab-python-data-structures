{
  "cells": [
    {
      "cell_type": "markdown",
      "metadata": {
        "tags": [],
        "id": "hmAXjRHTzMqt"
      },
      "source": [
        "# Lab | Data Structures"
      ]
    },
    {
      "cell_type": "markdown",
      "metadata": {
        "id": "fQEZi37WzMqv"
      },
      "source": [
        "## Exercise: Managing Customer Orders\n",
        "\n",
        "As part of a business venture, you are starting an online store that sells various products. To ensure smooth operations, you need to develop a program that manages customer orders and inventory.\n",
        "\n",
        "Follow the steps below to complete the exercise:\n",
        "\n",
        "1. Define a list called `products` that contains the following items: \"t-shirt\", \"mug\", \"hat\", \"book\", \"keychain\".\n",
        "\n",
        "2. Create an empty dictionary called `inventory`.\n",
        "\n",
        "3. Ask the user to input the quantity of each product available in the inventory. Use the product names from the `products` list as keys in the `inventory` dictionary and assign the respective quantities as values.\n",
        "\n",
        "4. Create an empty set called `customer_orders`.\n",
        "\n",
        "5. Ask the user to input the name of three products that a customer wants to order (from those in the products list, meaning three products out of \"t-shirt\", \"mug\", \"hat\", \"book\" or \"keychain\". Add each product name to the `customer_orders` set.\n",
        "\n",
        "6. Print the products in the `customer_orders` set.\n",
        "\n",
        "7. Calculate the following order statistics:\n",
        "   - Total Products Ordered: The total number of products in the `customer_orders` set.\n",
        "   - Percentage of Products Ordered: The percentage of products ordered compared to the total available products.\n",
        "   \n",
        "   Store these statistics in a tuple called `order_status`.\n",
        "\n",
        "8. Print the order statistics using the following format:\n",
        "   ```\n",
        "   Order Statistics:\n",
        "   Total Products Ordered: <total_products_ordered>\n",
        "   Percentage of Products Ordered: <percentage_ordered>%\n",
        "   ```\n",
        "\n",
        "9. Update the inventory by subtracting 1 from the quantity of each product. Modify the `inventory` dictionary accordingly.\n",
        "\n",
        "10. Print the updated inventory, displaying the quantity of each product on separate lines.\n",
        "\n",
        "Solve the exercise by implementing the steps using the Python concepts of lists, dictionaries, sets, and basic input/output operations."
      ]
    },
    {
      "cell_type": "code",
      "source": [
        "#1\n",
        "products = [\"tshirt\", \"mug\", \"hat\", \"book\", \"keychain\"]\n",
        "\n",
        "#2\n",
        "inventory = {}\n",
        "#inventory2 = dict()\n",
        "\n",
        "#3\n",
        "tshirt_count = int(input(\"How many tshirts are in the inventory? \"))\n",
        "mug_count = int(input(\"How many mugs are in the inventory? \"))\n",
        "hat_count = int(input(\"How many hats are in the inventory? \"))\n",
        "book_count = int(input(\"How many books are in the inventory? \"))\n",
        "keychain_count = int(input(\"How many keychains are in the inventory? \"))\n",
        "\n",
        "inventory[\"tshirt\"] = tshirt_count\n",
        "inventory[\"mug\"] = mug_count\n",
        "inventory[\"hat\"] = hat_count\n",
        "inventory[\"book\"] = book_count\n",
        "inventory[\"keychain\"] = keychain_count\n",
        "\n",
        "\n",
        "# for product in products:\n",
        "    #quantity = int(input(f\"Enter the quantity of ({product}: \"))\n",
        "    #inventory[product] = quantity\n"
      ],
      "metadata": {
        "colab": {
          "base_uri": "https://localhost:8080/"
        },
        "id": "RfwDyvtrzPBR",
        "outputId": "0907058e-ca1b-408b-d921-e6e45c8a4d96"
      },
      "execution_count": null,
      "outputs": [
        {
          "name": "stdout",
          "output_type": "stream",
          "text": [
            "How many tshirts are in the inventory? 10\n",
            "How many mugs are in the inventory? 5\n",
            "How many hats are in the inventory? 4\n",
            "How many books are in the inventory? 7\n",
            "How many keychains are in the inventory? 4\n"
          ]
        }
      ]
    },
    {
      "cell_type": "code",
      "source": [
        "print(inventory)"
      ],
      "metadata": {
        "colab": {
          "base_uri": "https://localhost:8080/"
        },
        "id": "VdZszesA_7UK",
        "outputId": "14f5a616-83f3-4f69-f1f4-79b47db18986"
      },
      "execution_count": null,
      "outputs": [
        {
          "output_type": "stream",
          "name": "stdout",
          "text": [
            "{'tshirt': 10, 'mug': 5, 'hat': 4, 'book': 7, 'keychain': 4}\n"
          ]
        }
      ]
    },
    {
      "cell_type": "code",
      "source": [
        "#4\n",
        "customer_orders = set()\n",
        "\n",
        "#5\n",
        "purchased = input(\"Please enter three products you would like to buy? (We have tshirt, mug, hat, book, and keychain in stock): \")\n",
        "purchased_items = purchased.split(\", \")\n",
        "for item in purchased_items:\n",
        "    if item in inventory:\n",
        "        customer_orders.add(item)\n",
        "\n",
        "#for total_order in range(3):\n",
        "  #total_order = input(\"Please name the product you want to purchase: \")\n",
        "  #customer_orders.add(total_order)\n",
        "\n",
        "  #x=int(imput(\"How many products would you like to order?: \"))\n",
        "  #for total_order in range(trials):\n",
        "\n",
        "  #as long as set doesnt have a length of 3, keep asking thr user for input\n",
        "\n",
        "#6\n",
        "print(customer_orders)"
      ],
      "metadata": {
        "colab": {
          "base_uri": "https://localhost:8080/"
        },
        "id": "SB1XnahsACJn",
        "outputId": "d24ddcb7-6bc6-4b7c-acf7-d4963902f187"
      },
      "execution_count": null,
      "outputs": [
        {
          "output_type": "stream",
          "name": "stdout",
          "text": [
            "Please enter three products you would like to buy? (We have tshirt, mug, hat, book, and keychain in stock): keychain, mug, hat\n",
            "{'mug', 'hat', 'keychain'}\n"
          ]
        }
      ]
    },
    {
      "cell_type": "code",
      "source": [
        "#7\n",
        "total_products_ordered = len(customer_orders)\n",
        "print(\"The number of products ordered is:\", total_products_ordered)\n",
        "inventory_total_items = int(tshirt_count + mug_count + hat_count + book_count + keychain_count)\n",
        "percentage_ordered = (len(customer_orders) / inventory_total_items)*100\n",
        "print(\"The number of products ordered is\", percentage_ordered, \"% of the available inventory\")\n",
        "order_status = (total_products_ordered, percentage_ordered)\n",
        "print(order_status)"
      ],
      "metadata": {
        "colab": {
          "base_uri": "https://localhost:8080/"
        },
        "id": "oz1Z-0k28aL_",
        "outputId": "95983945-f9e3-4863-aa45-987dc3e461b0"
      },
      "execution_count": null,
      "outputs": [
        {
          "output_type": "stream",
          "name": "stdout",
          "text": [
            "The number of products ordered is: 3\n",
            "The number of products ordered is 10.0 % of the available inventory\n",
            "(3, 10.0)\n"
          ]
        }
      ]
    },
    {
      "cell_type": "code",
      "source": [
        "#8\n",
        "print(\"Order Statistics:\")\n",
        "print(\"Total Products Ordered:\", total_products_ordered)\n",
        "print(\"Percentage of Products Ordered:\", percentage_ordered,\"%\")"
      ],
      "metadata": {
        "colab": {
          "base_uri": "https://localhost:8080/"
        },
        "id": "zYh-HPkCBuD0",
        "outputId": "7a727754-0f99-4720-ec4a-fcc72c48462d"
      },
      "execution_count": null,
      "outputs": [
        {
          "output_type": "stream",
          "name": "stdout",
          "text": [
            "Order Statistics:\n",
            "Total Products Ordered: 3\n",
            "Percentage of Products Ordered: 10.0 %\n"
          ]
        }
      ]
    },
    {
      "cell_type": "code",
      "source": [
        "#9\n",
        "for i in customer_orders:\n",
        "  if i in inventory:\n",
        "     inventory[i] -= 1\n",
        "\n",
        "#inventory[t-shirt] -= 1"
      ],
      "metadata": {
        "id": "4TWvqRAtDesL"
      },
      "execution_count": null,
      "outputs": []
    },
    {
      "cell_type": "code",
      "source": [
        "#10\n",
        "print(\"Updated Inventory:\")\n",
        "for product, quantity in inventory.items():\n",
        "    print(f\"{product} : {quantity}\")"
      ],
      "metadata": {
        "colab": {
          "base_uri": "https://localhost:8080/"
        },
        "id": "mSuGElLPDs53",
        "outputId": "3b4a5e1e-eb6f-4280-81be-317fc18c2f2b"
      },
      "execution_count": null,
      "outputs": [
        {
          "output_type": "stream",
          "name": "stdout",
          "text": [
            "Updated Inventory:\n",
            "tshirt : 10\n",
            "mug : 4\n",
            "hat : 3\n",
            "book : 7\n",
            "keychain : 3\n"
          ]
        }
      ]
    }
  ],
  "metadata": {
    "kernelspec": {
      "display_name": "Python 3 (ipykernel)",
      "language": "python",
      "name": "python3"
    },
    "language_info": {
      "codemirror_mode": {
        "name": "ipython",
        "version": 3
      },
      "file_extension": ".py",
      "mimetype": "text/x-python",
      "name": "python",
      "nbconvert_exporter": "python",
      "pygments_lexer": "ipython3",
      "version": "3.9.13"
    },
    "colab": {
      "provenance": []
    }
  },
  "nbformat": 4,
  "nbformat_minor": 0
}